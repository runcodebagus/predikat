{
 "cells": [
  {
   "cell_type": "markdown",
   "id": "6411145f",
   "metadata": {
    "papermill": {
     "duration": 0.005221,
     "end_time": "2022-12-04T15:09:49.559639",
     "exception": false,
     "start_time": "2022-12-04T15:09:49.554418",
     "status": "completed"
    },
    "tags": []
   },
   "source": [
    "\n",
    "\n",
    "# Import Libary\n",
    "# "
   ]
  },
  {
   "cell_type": "code",
   "execution_count": 1,
   "id": "271bd2ff",
   "metadata": {
    "execution": {
     "iopub.execute_input": "2022-12-04T15:09:49.570141Z",
     "iopub.status.busy": "2022-12-04T15:09:49.569682Z",
     "iopub.status.idle": "2022-12-04T15:09:50.533521Z",
     "shell.execute_reply": "2022-12-04T15:09:50.532860Z"
    },
    "papermill": {
     "duration": 0.971744,
     "end_time": "2022-12-04T15:09:50.535839",
     "exception": false,
     "start_time": "2022-12-04T15:09:49.564095",
     "status": "completed"
    },
    "tags": []
   },
   "outputs": [],
   "source": [
    "\n",
    "import numpy as np # linear algebra\n",
    "import pandas as pd # data processing, CSV file I/O (e.g. pd.read_csv)\n",
    "import matplotlib.pyplot as plt\n",
    "from sklearn.linear_model import LinearRegression\n",
    "import os\n"
   ]
  },
  {
   "cell_type": "markdown",
   "id": "2debd231",
   "metadata": {
    "papermill": {
     "duration": 0.004272,
     "end_time": "2022-12-04T15:09:50.544998",
     "exception": false,
     "start_time": "2022-12-04T15:09:50.540726",
     "status": "completed"
    },
    "tags": []
   },
   "source": [
    "# Setup Dataset from kaggle"
   ]
  },
  {
   "cell_type": "code",
   "execution_count": 2,
   "id": "1b03366f",
   "metadata": {
    "execution": {
     "iopub.execute_input": "2022-12-04T15:09:50.555367Z",
     "iopub.status.busy": "2022-12-04T15:09:50.554860Z",
     "iopub.status.idle": "2022-12-04T15:09:50.562482Z",
     "shell.execute_reply": "2022-12-04T15:09:50.561724Z"
    },
    "papermill": {
     "duration": 0.014779,
     "end_time": "2022-12-04T15:09:50.564158",
     "exception": false,
     "start_time": "2022-12-04T15:09:50.549379",
     "status": "completed"
    },
    "tags": []
   },
   "outputs": [
    {
     "data": {
      "text/plain": [
       "['btc-price']"
      ]
     },
     "execution_count": 2,
     "metadata": {},
     "output_type": "execute_result"
    }
   ],
   "source": [
    "os.listdir('/kaggle/input')"
   ]
  },
  {
   "cell_type": "code",
   "execution_count": 4,
   "id": "d2b9cb5f",
   "metadata": {
    "execution": {
     "iopub.execute_input": "2022-12-04T15:09:50.574402Z",
     "iopub.status.busy": "2022-12-04T15:09:50.574131Z",
     "iopub.status.idle": "2022-12-04T15:09:50.592648Z",
     "shell.execute_reply": "2022-12-04T15:09:50.591948Z"
    },
    "papermill": {
     "duration": 0.025626,
     "end_time": "2022-12-04T15:09:50.594324",
     "exception": false,
     "start_time": "2022-12-04T15:09:50.568698",
     "status": "completed"
    },
    "tags": []
   },
   "outputs": [],
   "source": [
    "df = pd.read_csv('dt.csv')"
   ]
  },
  {
   "cell_type": "code",
   "execution_count": 5,
   "id": "27996fe0",
   "metadata": {
    "execution": {
     "iopub.execute_input": "2022-12-04T15:09:50.605174Z",
     "iopub.status.busy": "2022-12-04T15:09:50.604705Z",
     "iopub.status.idle": "2022-12-04T15:09:50.618840Z",
     "shell.execute_reply": "2022-12-04T15:09:50.618195Z"
    },
    "papermill": {
     "duration": 0.021147,
     "end_time": "2022-12-04T15:09:50.620327",
     "exception": false,
     "start_time": "2022-12-04T15:09:50.599180",
     "status": "completed"
    },
    "tags": []
   },
   "outputs": [
    {
     "data": {
      "text/html": [
       "<div>\n",
       "<style scoped>\n",
       "    .dataframe tbody tr th:only-of-type {\n",
       "        vertical-align: middle;\n",
       "    }\n",
       "\n",
       "    .dataframe tbody tr th {\n",
       "        vertical-align: top;\n",
       "    }\n",
       "\n",
       "    .dataframe thead th {\n",
       "        text-align: right;\n",
       "    }\n",
       "</style>\n",
       "<table border=\"1\" class=\"dataframe\">\n",
       "  <thead>\n",
       "    <tr style=\"text-align: right;\">\n",
       "      <th></th>\n",
       "      <th>nim</th>\n",
       "      <th>nama</th>\n",
       "      <th>ips1</th>\n",
       "      <th>ips2</th>\n",
       "      <th>ips3</th>\n",
       "      <th>ips4</th>\n",
       "      <th>ips5</th>\n",
       "      <th>ips6</th>\n",
       "      <th>ips7</th>\n",
       "      <th>ips8</th>\n",
       "      <th>ipk</th>\n",
       "    </tr>\n",
       "  </thead>\n",
       "  <tbody>\n",
       "    <tr>\n",
       "      <th>0</th>\n",
       "      <td>15090032</td>\n",
       "      <td>GAGAS PRASTYA</td>\n",
       "      <td>3.00</td>\n",
       "      <td>0.00</td>\n",
       "      <td>0.00</td>\n",
       "      <td>3.90</td>\n",
       "      <td>3.87</td>\n",
       "      <td>4.00</td>\n",
       "      <td>0.00</td>\n",
       "      <td>0.00</td>\n",
       "      <td>1.85</td>\n",
       "    </tr>\n",
       "    <tr>\n",
       "      <th>1</th>\n",
       "      <td>15090033</td>\n",
       "      <td>AHMAD YANI</td>\n",
       "      <td>2.14</td>\n",
       "      <td>0.65</td>\n",
       "      <td>0.00</td>\n",
       "      <td>0.00</td>\n",
       "      <td>0.00</td>\n",
       "      <td>0.00</td>\n",
       "      <td>0.00</td>\n",
       "      <td>0.00</td>\n",
       "      <td>0.35</td>\n",
       "    </tr>\n",
       "    <tr>\n",
       "      <th>2</th>\n",
       "      <td>15090034</td>\n",
       "      <td>ALFAN FAIZAL ARSIDIN</td>\n",
       "      <td>3.24</td>\n",
       "      <td>3.25</td>\n",
       "      <td>3.26</td>\n",
       "      <td>3.50</td>\n",
       "      <td>3.33</td>\n",
       "      <td>3.48</td>\n",
       "      <td>3.58</td>\n",
       "      <td>3.25</td>\n",
       "      <td>3.36</td>\n",
       "    </tr>\n",
       "    <tr>\n",
       "      <th>3</th>\n",
       "      <td>15090035</td>\n",
       "      <td>RIO ADI SUGANDA</td>\n",
       "      <td>0.00</td>\n",
       "      <td>0.00</td>\n",
       "      <td>0.00</td>\n",
       "      <td>0.00</td>\n",
       "      <td>0.00</td>\n",
       "      <td>0.00</td>\n",
       "      <td>0.00</td>\n",
       "      <td>0.00</td>\n",
       "      <td>0.00</td>\n",
       "    </tr>\n",
       "    <tr>\n",
       "      <th>4</th>\n",
       "      <td>15090036</td>\n",
       "      <td>INDRI NOVI RAHMAWATI</td>\n",
       "      <td>3.33</td>\n",
       "      <td>3.20</td>\n",
       "      <td>3.17</td>\n",
       "      <td>3.14</td>\n",
       "      <td>3.48</td>\n",
       "      <td>3.52</td>\n",
       "      <td>3.58</td>\n",
       "      <td>3.25</td>\n",
       "      <td>3.33</td>\n",
       "    </tr>\n",
       "  </tbody>\n",
       "</table>\n",
       "</div>"
      ],
      "text/plain": [
       "        nim                  nama  ips1  ips2  ips3  ips4  ips5  ips6  ips7  \\\n",
       "0  15090032         GAGAS PRASTYA  3.00  0.00  0.00  3.90  3.87  4.00  0.00   \n",
       "1  15090033            AHMAD YANI  2.14  0.65  0.00  0.00  0.00  0.00  0.00   \n",
       "2  15090034  ALFAN FAIZAL ARSIDIN  3.24  3.25  3.26  3.50  3.33  3.48  3.58   \n",
       "3  15090035       RIO ADI SUGANDA  0.00  0.00  0.00  0.00  0.00  0.00  0.00   \n",
       "4  15090036  INDRI NOVI RAHMAWATI  3.33  3.20  3.17  3.14  3.48  3.52  3.58   \n",
       "\n",
       "   ips8   ipk  \n",
       "0  0.00  1.85  \n",
       "1  0.00  0.35  \n",
       "2  3.25  3.36  \n",
       "3  0.00  0.00  \n",
       "4  3.25  3.33  "
      ]
     },
     "execution_count": 5,
     "metadata": {},
     "output_type": "execute_result"
    }
   ],
   "source": [
    "df.head()"
   ]
  },
  {
   "cell_type": "markdown",
   "id": "4ac2f6b5",
   "metadata": {
    "papermill": {
     "duration": 0.004467,
     "end_time": "2022-12-04T15:09:50.629425",
     "exception": false,
     "start_time": "2022-12-04T15:09:50.624958",
     "status": "completed"
    },
    "tags": []
   },
   "source": [
    "# takes column variable x (price_open, price_high, price_low) and takes colom variable y (price_close)\n"
   ]
  },
  {
   "cell_type": "code",
   "execution_count": 5,
   "id": "4ea296d7",
   "metadata": {
    "execution": {
     "iopub.execute_input": "2022-12-04T15:09:50.640116Z",
     "iopub.status.busy": "2022-12-04T15:09:50.639658Z",
     "iopub.status.idle": "2022-12-04T15:09:50.645832Z",
     "shell.execute_reply": "2022-12-04T15:09:50.644651Z"
    },
    "papermill": {
     "duration": 0.013465,
     "end_time": "2022-12-04T15:09:50.647501",
     "exception": false,
     "start_time": "2022-12-04T15:09:50.634036",
     "status": "completed"
    },
    "tags": []
   },
   "outputs": [
    {
     "name": "stdout",
     "output_type": "stream",
     "text": [
      "[[  732.      757.99    729.01 ]\n",
      " [  750.76    798.7     742.5  ]\n",
      " [  784.19    818.99    767.62 ]\n",
      " ...\n",
      " [47542.2   48160.    46078.327]\n",
      " [46471.24  47949.3   45926.   ]\n",
      " [47122.09  48604.75  45530.3  ]]\n",
      "[  754.9    784.19   809.4  ... 46471.24 47122.08 46211.24]\n"
     ]
    }
   ],
   "source": [
    "x = df.iloc[:, 0:3].values \n",
    "y = df.iloc[:, -1].values \n",
    "print(x)\n",
    "print(y)"
   ]
  },
  {
   "cell_type": "code",
   "execution_count": 8,
   "id": "b4bd6f4e",
   "metadata": {},
   "outputs": [],
   "source": [
    "x = df.drop(labels=['nim','nama','ipk'], axis=1).values\n",
    "y = df['ipk'].values\n"
   ]
  },
  {
   "cell_type": "markdown",
   "id": "4f858866",
   "metadata": {
    "papermill": {
     "duration": 0.004516,
     "end_time": "2022-12-04T15:09:50.657681",
     "exception": false,
     "start_time": "2022-12-04T15:09:50.653165",
     "status": "completed"
    },
    "tags": []
   },
   "source": [
    "# Setup train and test"
   ]
  },
  {
   "cell_type": "code",
   "execution_count": 9,
   "id": "e87d74b7",
   "metadata": {
    "execution": {
     "iopub.execute_input": "2022-12-04T15:09:50.668604Z",
     "iopub.status.busy": "2022-12-04T15:09:50.668095Z",
     "iopub.status.idle": "2022-12-04T15:09:50.673582Z",
     "shell.execute_reply": "2022-12-04T15:09:50.672800Z"
    },
    "papermill": {
     "duration": 0.013016,
     "end_time": "2022-12-04T15:09:50.675288",
     "exception": false,
     "start_time": "2022-12-04T15:09:50.662272",
     "status": "completed"
    },
    "tags": []
   },
   "outputs": [],
   "source": [
    "from sklearn.model_selection import train_test_split\n",
    "x_train, x_test, y_train, y_test = train_test_split(x, y, test_size=0.2, random_state=0) #membagi dataset menjadi data training dan testing"
   ]
  },
  {
   "cell_type": "markdown",
   "id": "5bc90958",
   "metadata": {
    "papermill": {
     "duration": 0.004507,
     "end_time": "2022-12-04T15:09:50.684531",
     "exception": false,
     "start_time": "2022-12-04T15:09:50.680024",
     "status": "completed"
    },
    "tags": []
   },
   "source": [
    "# Create Model"
   ]
  },
  {
   "cell_type": "code",
   "execution_count": 10,
   "id": "5e8b5d60",
   "metadata": {
    "execution": {
     "iopub.execute_input": "2022-12-04T15:09:50.695315Z",
     "iopub.status.busy": "2022-12-04T15:09:50.694966Z",
     "iopub.status.idle": "2022-12-04T15:09:50.718982Z",
     "shell.execute_reply": "2022-12-04T15:09:50.718076Z"
    },
    "papermill": {
     "duration": 0.031248,
     "end_time": "2022-12-04T15:09:50.720539",
     "exception": false,
     "start_time": "2022-12-04T15:09:50.689291",
     "status": "completed"
    },
    "tags": []
   },
   "outputs": [
    {
     "data": {
      "text/html": [
       "<style>#sk-container-id-1 {color: black;background-color: white;}#sk-container-id-1 pre{padding: 0;}#sk-container-id-1 div.sk-toggleable {background-color: white;}#sk-container-id-1 label.sk-toggleable__label {cursor: pointer;display: block;width: 100%;margin-bottom: 0;padding: 0.3em;box-sizing: border-box;text-align: center;}#sk-container-id-1 label.sk-toggleable__label-arrow:before {content: \"▸\";float: left;margin-right: 0.25em;color: #696969;}#sk-container-id-1 label.sk-toggleable__label-arrow:hover:before {color: black;}#sk-container-id-1 div.sk-estimator:hover label.sk-toggleable__label-arrow:before {color: black;}#sk-container-id-1 div.sk-toggleable__content {max-height: 0;max-width: 0;overflow: hidden;text-align: left;background-color: #f0f8ff;}#sk-container-id-1 div.sk-toggleable__content pre {margin: 0.2em;color: black;border-radius: 0.25em;background-color: #f0f8ff;}#sk-container-id-1 input.sk-toggleable__control:checked~div.sk-toggleable__content {max-height: 200px;max-width: 100%;overflow: auto;}#sk-container-id-1 input.sk-toggleable__control:checked~label.sk-toggleable__label-arrow:before {content: \"▾\";}#sk-container-id-1 div.sk-estimator input.sk-toggleable__control:checked~label.sk-toggleable__label {background-color: #d4ebff;}#sk-container-id-1 div.sk-label input.sk-toggleable__control:checked~label.sk-toggleable__label {background-color: #d4ebff;}#sk-container-id-1 input.sk-hidden--visually {border: 0;clip: rect(1px 1px 1px 1px);clip: rect(1px, 1px, 1px, 1px);height: 1px;margin: -1px;overflow: hidden;padding: 0;position: absolute;width: 1px;}#sk-container-id-1 div.sk-estimator {font-family: monospace;background-color: #f0f8ff;border: 1px dotted black;border-radius: 0.25em;box-sizing: border-box;margin-bottom: 0.5em;}#sk-container-id-1 div.sk-estimator:hover {background-color: #d4ebff;}#sk-container-id-1 div.sk-parallel-item::after {content: \"\";width: 100%;border-bottom: 1px solid gray;flex-grow: 1;}#sk-container-id-1 div.sk-label:hover label.sk-toggleable__label {background-color: #d4ebff;}#sk-container-id-1 div.sk-serial::before {content: \"\";position: absolute;border-left: 1px solid gray;box-sizing: border-box;top: 0;bottom: 0;left: 50%;z-index: 0;}#sk-container-id-1 div.sk-serial {display: flex;flex-direction: column;align-items: center;background-color: white;padding-right: 0.2em;padding-left: 0.2em;position: relative;}#sk-container-id-1 div.sk-item {position: relative;z-index: 1;}#sk-container-id-1 div.sk-parallel {display: flex;align-items: stretch;justify-content: center;background-color: white;position: relative;}#sk-container-id-1 div.sk-item::before, #sk-container-id-1 div.sk-parallel-item::before {content: \"\";position: absolute;border-left: 1px solid gray;box-sizing: border-box;top: 0;bottom: 0;left: 50%;z-index: -1;}#sk-container-id-1 div.sk-parallel-item {display: flex;flex-direction: column;z-index: 1;position: relative;background-color: white;}#sk-container-id-1 div.sk-parallel-item:first-child::after {align-self: flex-end;width: 50%;}#sk-container-id-1 div.sk-parallel-item:last-child::after {align-self: flex-start;width: 50%;}#sk-container-id-1 div.sk-parallel-item:only-child::after {width: 0;}#sk-container-id-1 div.sk-dashed-wrapped {border: 1px dashed gray;margin: 0 0.4em 0.5em 0.4em;box-sizing: border-box;padding-bottom: 0.4em;background-color: white;}#sk-container-id-1 div.sk-label label {font-family: monospace;font-weight: bold;display: inline-block;line-height: 1.2em;}#sk-container-id-1 div.sk-label-container {text-align: center;}#sk-container-id-1 div.sk-container {/* jupyter's `normalize.less` sets `[hidden] { display: none; }` but bootstrap.min.css set `[hidden] { display: none !important; }` so we also need the `!important` here to be able to override the default hidden behavior on the sphinx rendered scikit-learn.org. See: https://github.com/scikit-learn/scikit-learn/issues/21755 */display: inline-block !important;position: relative;}#sk-container-id-1 div.sk-text-repr-fallback {display: none;}</style><div id=\"sk-container-id-1\" class=\"sk-top-container\"><div class=\"sk-text-repr-fallback\"><pre>LinearRegression()</pre><b>In a Jupyter environment, please rerun this cell to show the HTML representation or trust the notebook. <br />On GitHub, the HTML representation is unable to render, please try loading this page with nbviewer.org.</b></div><div class=\"sk-container\" hidden><div class=\"sk-item\"><div class=\"sk-estimator sk-toggleable\"><input class=\"sk-toggleable__control sk-hidden--visually\" id=\"sk-estimator-id-1\" type=\"checkbox\" checked><label for=\"sk-estimator-id-1\" class=\"sk-toggleable__label sk-toggleable__label-arrow\">LinearRegression</label><div class=\"sk-toggleable__content\"><pre>LinearRegression()</pre></div></div></div></div></div>"
      ],
      "text/plain": [
       "LinearRegression()"
      ]
     },
     "execution_count": 10,
     "metadata": {},
     "output_type": "execute_result"
    }
   ],
   "source": [
    "from sklearn.linear_model import LinearRegression\n",
    "regressor = LinearRegression()\n",
    "regressor.fit(x_train,y_train)"
   ]
  },
  {
   "cell_type": "markdown",
   "id": "1f384ebd",
   "metadata": {
    "papermill": {
     "duration": 0.004536,
     "end_time": "2022-12-04T15:09:50.729974",
     "exception": false,
     "start_time": "2022-12-04T15:09:50.725438",
     "status": "completed"
    },
    "tags": []
   },
   "source": [
    "# Make predictions\n"
   ]
  },
  {
   "cell_type": "code",
   "execution_count": 11,
   "id": "d80296c0",
   "metadata": {
    "execution": {
     "iopub.execute_input": "2022-12-04T15:09:50.742137Z",
     "iopub.status.busy": "2022-12-04T15:09:50.741489Z",
     "iopub.status.idle": "2022-12-04T15:09:50.752353Z",
     "shell.execute_reply": "2022-12-04T15:09:50.750729Z"
    },
    "papermill": {
     "duration": 0.018984,
     "end_time": "2022-12-04T15:09:50.754093",
     "exception": false,
     "start_time": "2022-12-04T15:09:50.735109",
     "status": "completed"
    },
    "tags": []
   },
   "outputs": [
    {
     "name": "stdout",
     "output_type": "stream",
     "text": [
      "[3.20133033e+00 3.29058792e+00 3.23049196e+00 4.08055052e-02\n",
      " 3.59274005e+00 3.65026107e+00 8.55869304e-01 3.02787607e+00\n",
      " 2.56143441e+00 3.58912138e+00 2.57330671e+00 3.24943104e+00\n",
      " 3.47780677e+00 3.06528834e+00 3.31653409e+00 7.80689752e-04\n",
      " 9.98550775e-01 2.98800150e+00 3.41008169e+00 3.24496949e+00\n",
      " 3.70281972e+00 9.03380104e-01 2.90541858e+00 3.67411739e+00\n",
      " 3.13509085e+00 3.10045884e+00 3.98277706e+00 8.92284710e-01\n",
      " 3.56787078e+00 3.45297328e+00 3.81285698e+00 3.37376206e+00\n",
      " 2.97903878e+00 9.33380755e-02 3.55404164e+00 3.62773682e+00\n",
      " 6.23337074e-01 3.08272613e+00 3.32160250e+00 3.50027888e+00\n",
      " 3.34737744e-01 2.81254527e+00 7.09833350e-01 2.96651192e+00\n",
      " 3.25179790e+00 2.96018844e+00 2.86780589e+00 3.20530834e+00\n",
      " 3.42921446e+00 2.25303310e+00 3.32307392e+00 3.40022701e+00\n",
      " 3.23409697e+00 3.28280520e+00 2.84297373e+00 3.49666154e-01\n",
      " 7.80689752e-04 3.60929032e+00 3.49531531e+00 3.04782073e+00\n",
      " 2.62162757e+00 3.09529453e+00 3.12060750e+00 3.74169053e+00\n",
      " 3.29533650e+00 2.82414576e+00 7.43383637e-01 3.19897039e+00\n",
      " 1.13698078e+00 3.40322035e+00 1.94489607e+00 3.53411213e+00\n",
      " 3.12540888e+00 2.67085499e+00 2.85141512e+00 2.09595854e+00\n",
      " 3.02401978e+00 4.12285824e-01 2.91904171e+00 1.77783821e+00\n",
      " 2.87634212e+00 3.75540498e+00 3.26116341e+00 1.73467312e+00\n",
      " 2.83664660e+00 3.50404603e+00 1.62088725e+00 3.27662439e+00\n",
      " 3.21015685e+00 3.23158960e+00 3.13284573e+00 2.71397894e+00\n",
      " 7.80689752e-04 3.11521207e+00 2.80914739e+00 2.48318450e+00\n",
      " 3.50919148e+00 2.99883306e+00 3.58554584e+00 2.02260170e+00\n",
      " 3.22671238e+00 3.41289923e+00 3.52520015e+00 2.69063783e+00]\n"
     ]
    }
   ],
   "source": [
    "y_pred = regressor.predict(x_test)\n",
    "print(y_pred)"
   ]
  },
  {
   "cell_type": "markdown",
   "id": "6d185ce3",
   "metadata": {
    "papermill": {
     "duration": 0.004739,
     "end_time": "2022-12-04T15:09:50.763948",
     "exception": false,
     "start_time": "2022-12-04T15:09:50.759209",
     "status": "completed"
    },
    "tags": []
   },
   "source": [
    "# Mean Absolute Percentage error"
   ]
  },
  {
   "cell_type": "code",
   "execution_count": 12,
   "id": "048105fa",
   "metadata": {
    "execution": {
     "iopub.execute_input": "2022-12-04T15:09:50.775257Z",
     "iopub.status.busy": "2022-12-04T15:09:50.774764Z",
     "iopub.status.idle": "2022-12-04T15:09:50.779910Z",
     "shell.execute_reply": "2022-12-04T15:09:50.778878Z"
    },
    "papermill": {
     "duration": 0.013327,
     "end_time": "2022-12-04T15:09:50.782206",
     "exception": false,
     "start_time": "2022-12-04T15:09:50.768879",
     "status": "completed"
    },
    "tags": []
   },
   "outputs": [
    {
     "name": "stdout",
     "output_type": "stream",
     "text": [
      "MAPE : 101420598367.617096\n"
     ]
    }
   ],
   "source": [
    "from sklearn.metrics import mean_absolute_percentage_error\n",
    "mape = mean_absolute_percentage_error(y_test, y_pred)\n",
    "print('MAPE : %f' % mape)"
   ]
  },
  {
   "cell_type": "markdown",
   "id": "df62a057",
   "metadata": {
    "papermill": {
     "duration": 0.004875,
     "end_time": "2022-12-04T15:09:50.792605",
     "exception": false,
     "start_time": "2022-12-04T15:09:50.787730",
     "status": "completed"
    },
    "tags": []
   },
   "source": [
    "# Test Score"
   ]
  },
  {
   "cell_type": "code",
   "execution_count": 13,
   "id": "0b56d367",
   "metadata": {
    "execution": {
     "iopub.execute_input": "2022-12-04T15:09:50.803708Z",
     "iopub.status.busy": "2022-12-04T15:09:50.803357Z",
     "iopub.status.idle": "2022-12-04T15:09:50.809216Z",
     "shell.execute_reply": "2022-12-04T15:09:50.808647Z"
    },
    "papermill": {
     "duration": 0.013228,
     "end_time": "2022-12-04T15:09:50.810741",
     "exception": false,
     "start_time": "2022-12-04T15:09:50.797513",
     "status": "completed"
    },
    "tags": []
   },
   "outputs": [
    {
     "data": {
      "text/plain": [
       "0.9999921917996453"
      ]
     },
     "execution_count": 13,
     "metadata": {},
     "output_type": "execute_result"
    }
   ],
   "source": [
    "from sklearn.metrics import r2_score\n",
    "r2_score(y_test,y_pred)"
   ]
  },
  {
   "cell_type": "markdown",
   "id": "9f35edf9",
   "metadata": {
    "papermill": {
     "duration": 0.005185,
     "end_time": "2022-12-04T15:09:50.821065",
     "exception": false,
     "start_time": "2022-12-04T15:09:50.815880",
     "status": "completed"
    },
    "tags": []
   },
   "source": [
    "# Show value Coef and Intercept"
   ]
  },
  {
   "cell_type": "code",
   "execution_count": 14,
   "id": "6b1d9d4e",
   "metadata": {
    "execution": {
     "iopub.execute_input": "2022-12-04T15:09:50.833338Z",
     "iopub.status.busy": "2022-12-04T15:09:50.832233Z",
     "iopub.status.idle": "2022-12-04T15:09:50.837833Z",
     "shell.execute_reply": "2022-12-04T15:09:50.836724Z"
    },
    "papermill": {
     "duration": 0.013625,
     "end_time": "2022-12-04T15:09:50.839860",
     "exception": false,
     "start_time": "2022-12-04T15:09:50.826235",
     "status": "completed"
    },
    "tags": []
   },
   "outputs": [
    {
     "name": "stdout",
     "output_type": "stream",
     "text": [
      "0.0007806897521209777\n",
      "[0.12507755 0.12495309 0.12507264 0.12473587 0.12545725 0.12463533\n",
      " 0.12493604 0.12500903]\n"
     ]
    }
   ],
   "source": [
    "b = regressor.coef_ #menampilkan konstanta (nilai b)\n",
    "a = regressor.intercept_ #menampilkan nilai intercept (nilai a)\n",
    "print(a)\n",
    "print(b)"
   ]
  },
  {
   "cell_type": "markdown",
   "id": "f4f4e355",
   "metadata": {
    "papermill": {
     "duration": 0.005045,
     "end_time": "2022-12-04T15:09:50.850491",
     "exception": false,
     "start_time": "2022-12-04T15:09:50.845446",
     "status": "completed"
    },
    "tags": []
   },
   "source": [
    "# Testing Prediction Btc Price"
   ]
  },
  {
   "cell_type": "code",
   "execution_count": 15,
   "id": "79cc4574",
   "metadata": {
    "execution": {
     "iopub.execute_input": "2022-12-04T15:09:50.862413Z",
     "iopub.status.busy": "2022-12-04T15:09:50.862092Z",
     "iopub.status.idle": "2022-12-04T15:09:50.867730Z",
     "shell.execute_reply": "2022-12-04T15:09:50.867099Z"
    },
    "papermill": {
     "duration": 0.013558,
     "end_time": "2022-12-04T15:09:50.869253",
     "exception": false,
     "start_time": "2022-12-04T15:09:50.855695",
     "status": "completed"
    },
    "tags": []
   },
   "outputs": [
    {
     "data": {
      "text/plain": [
       "array([3.06831743])"
      ]
     },
     "execution_count": 15,
     "metadata": {},
     "output_type": "execute_result"
    }
   ],
   "source": [
    "regressor.predict([[ 2.19, 3.12, 3.26, 2.92, 3.9, 2.92, 3.11, 3.12]])"
   ]
  },
  {
   "cell_type": "markdown",
   "id": "4b7a5717",
   "metadata": {
    "papermill": {
     "duration": 0.005068,
     "end_time": "2022-12-04T15:09:50.879604",
     "exception": false,
     "start_time": "2022-12-04T15:09:50.874536",
     "status": "completed"
    },
    "tags": []
   },
   "source": [
    "# Save Model to Pickle"
   ]
  },
  {
   "cell_type": "code",
   "execution_count": 13,
   "id": "d061a6b4",
   "metadata": {
    "execution": {
     "iopub.execute_input": "2022-12-04T15:09:50.891552Z",
     "iopub.status.busy": "2022-12-04T15:09:50.890947Z",
     "iopub.status.idle": "2022-12-04T15:09:50.895211Z",
     "shell.execute_reply": "2022-12-04T15:09:50.894594Z"
    },
    "papermill": {
     "duration": 0.011881,
     "end_time": "2022-12-04T15:09:50.896698",
     "exception": false,
     "start_time": "2022-12-04T15:09:50.884817",
     "status": "completed"
    },
    "tags": []
   },
   "outputs": [],
   "source": [
    "import pickle\n",
    "pickle.dump(regressor,open('model.pkl', 'wb'))"
   ]
  }
 ],
 "metadata": {
  "kernelspec": {
   "display_name": "Python 3 (ipykernel)",
   "language": "python",
   "name": "python3"
  },
  "language_info": {
   "codemirror_mode": {
    "name": "ipython",
    "version": 3
   },
   "file_extension": ".py",
   "mimetype": "text/x-python",
   "name": "python",
   "nbconvert_exporter": "python",
   "pygments_lexer": "ipython3",
   "version": "3.9.0"
  },
  "papermill": {
   "default_parameters": {},
   "duration": 8.593837,
   "end_time": "2022-12-04T15:09:51.520466",
   "environment_variables": {},
   "exception": null,
   "input_path": "__notebook__.ipynb",
   "output_path": "__notebook__.ipynb",
   "parameters": {},
   "start_time": "2022-12-04T15:09:42.926629",
   "version": "2.3.4"
  }
 },
 "nbformat": 4,
 "nbformat_minor": 5
}
