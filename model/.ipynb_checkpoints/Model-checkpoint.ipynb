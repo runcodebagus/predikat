{
 "cells": [
  {
   "cell_type": "markdown",
   "id": "3372d8b4",
   "metadata": {},
   "source": [
    "# Import Library"
   ]
  },
  {
   "cell_type": "code",
   "execution_count": 26,
   "id": "3449b7e2",
   "metadata": {},
   "outputs": [],
   "source": [
    "import numpy as np #pengolahan data berupa array\n",
    "import pandas as pd #pengolahan data berupa dataframe\n",
    "import matplotlib.pyplot as plt #plot model"
   ]
  },
  {
   "cell_type": "markdown",
   "id": "15f14af4",
   "metadata": {},
   "source": [
    "# Load Dataset"
   ]
  },
  {
   "cell_type": "code",
   "execution_count": 27,
   "id": "723811a6",
   "metadata": {},
   "outputs": [],
   "source": [
    "df = pd.read_csv('df.csv')"
   ]
  },
  {
   "cell_type": "code",
   "execution_count": 28,
   "id": "c41c898e",
   "metadata": {},
   "outputs": [
    {
     "data": {
      "text/html": [
       "<div>\n",
       "<style scoped>\n",
       "    .dataframe tbody tr th:only-of-type {\n",
       "        vertical-align: middle;\n",
       "    }\n",
       "\n",
       "    .dataframe tbody tr th {\n",
       "        vertical-align: top;\n",
       "    }\n",
       "\n",
       "    .dataframe thead th {\n",
       "        text-align: right;\n",
       "    }\n",
       "</style>\n",
       "<table border=\"1\" class=\"dataframe\">\n",
       "  <thead>\n",
       "    <tr style=\"text-align: right;\">\n",
       "      <th></th>\n",
       "      <th>nim</th>\n",
       "      <th>nama</th>\n",
       "      <th>ips1</th>\n",
       "      <th>ips2</th>\n",
       "      <th>ips3</th>\n",
       "      <th>ips4</th>\n",
       "      <th>ips5</th>\n",
       "      <th>ips6</th>\n",
       "      <th>ips7</th>\n",
       "      <th>ips8</th>\n",
       "      <th>ipk</th>\n",
       "      <th>label</th>\n",
       "    </tr>\n",
       "  </thead>\n",
       "  <tbody>\n",
       "    <tr>\n",
       "      <th>0</th>\n",
       "      <td>15090032</td>\n",
       "      <td>GAGAS PRASTYA</td>\n",
       "      <td>3.00</td>\n",
       "      <td>0.00</td>\n",
       "      <td>0.00</td>\n",
       "      <td>3.90</td>\n",
       "      <td>3.87</td>\n",
       "      <td>4.00</td>\n",
       "      <td>0.00</td>\n",
       "      <td>0.00</td>\n",
       "      <td>1.85</td>\n",
       "      <td>C</td>\n",
       "    </tr>\n",
       "    <tr>\n",
       "      <th>1</th>\n",
       "      <td>15090033</td>\n",
       "      <td>AHMAD YANI</td>\n",
       "      <td>2.14</td>\n",
       "      <td>0.65</td>\n",
       "      <td>0.00</td>\n",
       "      <td>0.00</td>\n",
       "      <td>0.00</td>\n",
       "      <td>0.00</td>\n",
       "      <td>0.00</td>\n",
       "      <td>0.00</td>\n",
       "      <td>0.35</td>\n",
       "      <td>D</td>\n",
       "    </tr>\n",
       "    <tr>\n",
       "      <th>2</th>\n",
       "      <td>15090034</td>\n",
       "      <td>ALFAN FAIZAL ARSIDIN</td>\n",
       "      <td>3.24</td>\n",
       "      <td>3.25</td>\n",
       "      <td>3.26</td>\n",
       "      <td>3.50</td>\n",
       "      <td>3.33</td>\n",
       "      <td>3.48</td>\n",
       "      <td>3.58</td>\n",
       "      <td>3.25</td>\n",
       "      <td>3.36</td>\n",
       "      <td>B</td>\n",
       "    </tr>\n",
       "    <tr>\n",
       "      <th>3</th>\n",
       "      <td>15090035</td>\n",
       "      <td>RIO ADI SUGANDA</td>\n",
       "      <td>0.00</td>\n",
       "      <td>0.00</td>\n",
       "      <td>0.00</td>\n",
       "      <td>0.00</td>\n",
       "      <td>0.00</td>\n",
       "      <td>0.00</td>\n",
       "      <td>0.00</td>\n",
       "      <td>0.00</td>\n",
       "      <td>0.00</td>\n",
       "      <td>D</td>\n",
       "    </tr>\n",
       "    <tr>\n",
       "      <th>4</th>\n",
       "      <td>15090036</td>\n",
       "      <td>INDRI NOVI RAHMAWATI</td>\n",
       "      <td>3.33</td>\n",
       "      <td>3.20</td>\n",
       "      <td>3.17</td>\n",
       "      <td>3.14</td>\n",
       "      <td>3.48</td>\n",
       "      <td>3.52</td>\n",
       "      <td>3.58</td>\n",
       "      <td>3.25</td>\n",
       "      <td>3.33</td>\n",
       "      <td>B</td>\n",
       "    </tr>\n",
       "  </tbody>\n",
       "</table>\n",
       "</div>"
      ],
      "text/plain": [
       "        nim                  nama  ips1  ips2  ips3  ips4  ips5  ips6  ips7  \\\n",
       "0  15090032         GAGAS PRASTYA  3.00  0.00  0.00  3.90  3.87  4.00  0.00   \n",
       "1  15090033            AHMAD YANI  2.14  0.65  0.00  0.00  0.00  0.00  0.00   \n",
       "2  15090034  ALFAN FAIZAL ARSIDIN  3.24  3.25  3.26  3.50  3.33  3.48  3.58   \n",
       "3  15090035       RIO ADI SUGANDA  0.00  0.00  0.00  0.00  0.00  0.00  0.00   \n",
       "4  15090036  INDRI NOVI RAHMAWATI  3.33  3.20  3.17  3.14  3.48  3.52  3.58   \n",
       "\n",
       "   ips8   ipk label  \n",
       "0  0.00  1.85     C  \n",
       "1  0.00  0.35     D  \n",
       "2  3.25  3.36     B  \n",
       "3  0.00  0.00     D  \n",
       "4  3.25  3.33     B  "
      ]
     },
     "execution_count": 28,
     "metadata": {},
     "output_type": "execute_result"
    }
   ],
   "source": [
    "df.head()"
   ]
  },
  {
   "cell_type": "code",
   "execution_count": 29,
   "id": "9e894c9e",
   "metadata": {},
   "outputs": [
    {
     "name": "stdout",
     "output_type": "stream",
     "text": [
      "[3.   2.14 3.24 0.   3.33 3.14 3.38 3.48 3.71 2.38 3.62 3.86 3.43 3.52\n",
      " 3.57 3.67 0.33 3.76 3.9  2.62 3.05 3.29 0.14 1.43 3.19 2.67 2.76 3.1\n",
      " 3.81 2.48 1.1  2.9  2.95 2.86 2.43 2.19 1.71 2.33 2.71 2.81 1.33 0.76\n",
      " 1.29 0.95 1.48 0.74 4.   2.52 0.86 0.52 2.57 0.32 0.67 2.24 0.81 0.43\n",
      " 1.9  1.   0.1 ]\n",
      "[0.   0.65 3.25 3.2  2.45 2.47 3.15 3.6  3.45 3.9  3.5  3.   3.35 3.4\n",
      " 4.   3.7  3.85 3.65 3.55 2.9  2.7  0.45 2.75 3.05 1.8  0.4  2.8  3.75\n",
      " 0.25 0.6  2.85 1.2  0.55 3.8  1.3  2.95 3.1  3.3  2.65 0.7  0.8  0.3\n",
      " 0.85 0.75 2.1  2.25 0.15 1.35 2.6  0.5  2.4  1.45 1.7  2.55]\n",
      "[0.   3.26 3.17 2.83 3.04 3.3  3.57 3.65 2.78 2.52 3.22 3.87 3.52 3.74\n",
      " 3.43 3.48 3.   3.13 3.09 3.35 2.96 3.78 4.   3.7  2.91 2.87 2.7  3.23\n",
      " 3.83 3.61 3.91 0.61 3.39 2.48 2.74 2.57 2.3  2.65 2.35 2.04 2.61]\n",
      "[3.9  0.   3.5  3.14 3.   3.23 3.36 3.55 3.77 3.73 2.82 3.59 2.32 3.41\n",
      " 3.86 3.09 3.45 3.05 3.32 4.   3.27 2.91 2.64 3.64 3.25 1.73 2.86 3.91\n",
      " 2.59 2.77 3.62 3.1  2.73 2.95 3.18 2.5  3.68 2.9  0.14 0.27 2.68 2.05\n",
      " 1.59 3.82 1.18]\n",
      "[3.87 0.   3.33 3.48 3.71 3.62 3.14 3.86 3.67 3.52 3.05 3.9  0.38 3.24\n",
      " 4.   3.38 3.76 2.   2.86 3.81 3.57 1.65 0.57 3.1  3.43 3.19 2.43 2.95\n",
      " 2.57 3.29 2.67 2.71 0.14 2.33 3.   2.81 2.9  2.14 2.29 2.76 2.62 2.52\n",
      " 3.04 1.   3.64 3.77 3.09 3.2  3.41 3.39 3.18 2.35 2.78 2.7  2.73 2.05\n",
      " 2.6  3.17 3.5  3.55]\n",
      "[4.   0.   3.48 3.52 2.9  3.62 3.43 3.1  3.38 3.9  2.29 3.29 3.05 3.86\n",
      " 3.14 3.24 3.76 3.67 2.67 2.38 3.19 3.33 2.43 0.5  2.86 2.62 2.81 2.52\n",
      " 3.   2.76 2.57 2.71 3.57 2.95 3.42 3.71 2.1  1.4  3.09 3.39 3.17 3.2\n",
      " 2.   3.77 3.41 3.18 2.35 3.64 2.78 3.55 2.7  2.73 2.05 2.6  3.32]\n",
      "[0.   3.58 3.83 3.75 3.67 3.5  4.   3.   3.33 3.25 2.58 2.5  1.75 2.92\n",
      " 3.42 3.17 2.42 3.08 2.75 2.83 2.67 1.05 1.67 1.42 1.   1.5  0.5  0.67\n",
      " 1.25 0.75 2.8  3.2  3.77 3.39 3.09 3.41 3.14 3.05 3.64 3.18 2.35 2.78\n",
      " 3.55 3.52 3.9  2.7  2.05 3.32]\n",
      "[0.   3.25 4.   2.75 3.   3.5  3.75 2.5  2.43 1.   1.5  2.14 1.75 0.25\n",
      " 1.25 0.75 2.   3.64 3.39 3.2  3.09 3.17 3.14 3.05 3.77 3.41 2.35 3.18\n",
      " 2.78 3.55 3.52 3.6  2.7  2.73 2.05 2.6  3.32]\n",
      "['C' 'D' 'B' 'A']\n"
     ]
    }
   ],
   "source": [
    "print(df['ips1'].unique())\n",
    "print(df['ips2'].unique())\n",
    "print(df['ips3'].unique())\n",
    "print(df['ips4'].unique())\n",
    "print(df['ips5'].unique())\n",
    "print(df['ips6'].unique())\n",
    "print(df['ips7'].unique())\n",
    "print(df['ips8'].unique())\n",
    "print(df['label'].unique())"
   ]
  },
  {
   "cell_type": "markdown",
   "id": "1f432bbb",
   "metadata": {},
   "source": [
    "# menentukan nilai x dan y"
   ]
  },
  {
   "cell_type": "code",
   "execution_count": 30,
   "id": "bcbb421b",
   "metadata": {},
   "outputs": [],
   "source": [
    "X = df.drop(labels=['nim','nama','ipk','label'], axis=1).values #nilai ips1-ips8\n",
    "y = df['label'].values #predikat\n"
   ]
  },
  {
   "cell_type": "code",
   "execution_count": 31,
   "id": "b421d94f",
   "metadata": {
    "scrolled": true
   },
   "outputs": [
    {
     "data": {
      "text/plain": [
       "(array(['A', 'B', 'C', 'D'], dtype=object),\n",
       " array([ 69, 222, 115, 113], dtype=int64))"
      ]
     },
     "execution_count": 31,
     "metadata": {},
     "output_type": "execute_result"
    }
   ],
   "source": [
    "np.unique(y, return_counts=True)"
   ]
  },
  {
   "cell_type": "markdown",
   "id": "2c3beabf",
   "metadata": {},
   "source": [
    "# Handling Imbalance Data"
   ]
  },
  {
   "cell_type": "code",
   "execution_count": 54,
   "id": "7495c237",
   "metadata": {},
   "outputs": [],
   "source": [
    "\n",
    "from imblearn.over_sampling import RandomOverSampler\n",
    "\n",
    "from imblearn.combine import SMOTEENN "
   ]
  },
  {
   "cell_type": "code",
   "execution_count": 55,
   "id": "fe11ff26",
   "metadata": {},
   "outputs": [],
   "source": [
    "ros = RandomOverSampler(random_state=42)\n",
    "X_res, y_res = ros.fit_resample(X, y)"
   ]
  },
  {
   "cell_type": "code",
   "execution_count": 56,
   "id": "b4ac894f",
   "metadata": {},
   "outputs": [
    {
     "data": {
      "text/plain": [
       "(array(['A', 'B', 'C', 'D'], dtype=object),\n",
       " array([222, 222, 222, 222], dtype=int64))"
      ]
     },
     "execution_count": 56,
     "metadata": {},
     "output_type": "execute_result"
    }
   ],
   "source": [
    "np.unique(y_res, return_counts=True)"
   ]
  },
  {
   "cell_type": "code",
   "execution_count": null,
   "id": "7ca94091",
   "metadata": {},
   "outputs": [],
   "source": []
  },
  {
   "cell_type": "code",
   "execution_count": 57,
   "id": "7e821fe1",
   "metadata": {},
   "outputs": [
    {
     "name": "stdout",
     "output_type": "stream",
     "text": [
      "(888, 8)\n",
      "(888,)\n"
     ]
    }
   ],
   "source": [
    "print(X_res.shape)\n",
    "print(y_res.shape)"
   ]
  },
  {
   "cell_type": "markdown",
   "id": "c768f0d9",
   "metadata": {},
   "source": [
    "# Standarisasi"
   ]
  },
  {
   "cell_type": "code",
   "execution_count": 58,
   "id": "dbfd14b7",
   "metadata": {},
   "outputs": [],
   "source": [
    "import matplotlib.pyplot as plt\n",
    "import seaborn as sns\n",
    "from scipy import stats\n",
    "from sklearn.model_selection import train_test_split\n",
    "from sklearn.preprocessing import StandardScaler"
   ]
  },
  {
   "cell_type": "code",
   "execution_count": 59,
   "id": "3e191ef9",
   "metadata": {},
   "outputs": [
    {
     "name": "stdout",
     "output_type": "stream",
     "text": [
      "Train set size :  (621, 8) (621,)\n",
      "Test set size  :  (267, 8) (267,)\n"
     ]
    }
   ],
   "source": [
    "X_train, X_test, y_train, y_test = train_test_split(X_res, y_res, test_size=0.3, random_state=42, stratify=y_res)\n",
    "\n",
    "print('Train set size : ', X_train.shape, y_train.shape)\n",
    "print('Test set size  : ', X_test.shape, y_test.shape)"
   ]
  },
  {
   "cell_type": "code",
   "execution_count": 60,
   "id": "ed467bcf",
   "metadata": {},
   "outputs": [],
   "source": [
    "scaler = StandardScaler()\n",
    "scaler.fit(X_train)\n",
    "\n",
    "# Standardization Feature\n",
    "X_train_scaled = scaler.transform(X_train)\n",
    "X_test_scaled = scaler.transform(X_test)"
   ]
  },
  {
   "cell_type": "markdown",
   "id": "84a50feb",
   "metadata": {},
   "source": [
    "# Modelling"
   ]
  },
  {
   "cell_type": "code",
   "execution_count": 61,
   "id": "3cf09fa3",
   "metadata": {},
   "outputs": [],
   "source": [
    "from sklearn.model_selection import GridSearchCV\n",
    "from sklearn.metrics import classification_report\n",
    "from sklearn.neighbors import KNeighborsClassifier"
   ]
  },
  {
   "cell_type": "markdown",
   "id": "bf815e2a",
   "metadata": {},
   "source": [
    "Model KNN "
   ]
  },
  {
   "cell_type": "code",
   "execution_count": 62,
   "id": "abf118dc",
   "metadata": {},
   "outputs": [
    {
     "data": {
      "text/html": [
       "<style>#sk-container-id-6 {color: black;background-color: white;}#sk-container-id-6 pre{padding: 0;}#sk-container-id-6 div.sk-toggleable {background-color: white;}#sk-container-id-6 label.sk-toggleable__label {cursor: pointer;display: block;width: 100%;margin-bottom: 0;padding: 0.3em;box-sizing: border-box;text-align: center;}#sk-container-id-6 label.sk-toggleable__label-arrow:before {content: \"▸\";float: left;margin-right: 0.25em;color: #696969;}#sk-container-id-6 label.sk-toggleable__label-arrow:hover:before {color: black;}#sk-container-id-6 div.sk-estimator:hover label.sk-toggleable__label-arrow:before {color: black;}#sk-container-id-6 div.sk-toggleable__content {max-height: 0;max-width: 0;overflow: hidden;text-align: left;background-color: #f0f8ff;}#sk-container-id-6 div.sk-toggleable__content pre {margin: 0.2em;color: black;border-radius: 0.25em;background-color: #f0f8ff;}#sk-container-id-6 input.sk-toggleable__control:checked~div.sk-toggleable__content {max-height: 200px;max-width: 100%;overflow: auto;}#sk-container-id-6 input.sk-toggleable__control:checked~label.sk-toggleable__label-arrow:before {content: \"▾\";}#sk-container-id-6 div.sk-estimator input.sk-toggleable__control:checked~label.sk-toggleable__label {background-color: #d4ebff;}#sk-container-id-6 div.sk-label input.sk-toggleable__control:checked~label.sk-toggleable__label {background-color: #d4ebff;}#sk-container-id-6 input.sk-hidden--visually {border: 0;clip: rect(1px 1px 1px 1px);clip: rect(1px, 1px, 1px, 1px);height: 1px;margin: -1px;overflow: hidden;padding: 0;position: absolute;width: 1px;}#sk-container-id-6 div.sk-estimator {font-family: monospace;background-color: #f0f8ff;border: 1px dotted black;border-radius: 0.25em;box-sizing: border-box;margin-bottom: 0.5em;}#sk-container-id-6 div.sk-estimator:hover {background-color: #d4ebff;}#sk-container-id-6 div.sk-parallel-item::after {content: \"\";width: 100%;border-bottom: 1px solid gray;flex-grow: 1;}#sk-container-id-6 div.sk-label:hover label.sk-toggleable__label {background-color: #d4ebff;}#sk-container-id-6 div.sk-serial::before {content: \"\";position: absolute;border-left: 1px solid gray;box-sizing: border-box;top: 0;bottom: 0;left: 50%;z-index: 0;}#sk-container-id-6 div.sk-serial {display: flex;flex-direction: column;align-items: center;background-color: white;padding-right: 0.2em;padding-left: 0.2em;position: relative;}#sk-container-id-6 div.sk-item {position: relative;z-index: 1;}#sk-container-id-6 div.sk-parallel {display: flex;align-items: stretch;justify-content: center;background-color: white;position: relative;}#sk-container-id-6 div.sk-item::before, #sk-container-id-6 div.sk-parallel-item::before {content: \"\";position: absolute;border-left: 1px solid gray;box-sizing: border-box;top: 0;bottom: 0;left: 50%;z-index: -1;}#sk-container-id-6 div.sk-parallel-item {display: flex;flex-direction: column;z-index: 1;position: relative;background-color: white;}#sk-container-id-6 div.sk-parallel-item:first-child::after {align-self: flex-end;width: 50%;}#sk-container-id-6 div.sk-parallel-item:last-child::after {align-self: flex-start;width: 50%;}#sk-container-id-6 div.sk-parallel-item:only-child::after {width: 0;}#sk-container-id-6 div.sk-dashed-wrapped {border: 1px dashed gray;margin: 0 0.4em 0.5em 0.4em;box-sizing: border-box;padding-bottom: 0.4em;background-color: white;}#sk-container-id-6 div.sk-label label {font-family: monospace;font-weight: bold;display: inline-block;line-height: 1.2em;}#sk-container-id-6 div.sk-label-container {text-align: center;}#sk-container-id-6 div.sk-container {/* jupyter's `normalize.less` sets `[hidden] { display: none; }` but bootstrap.min.css set `[hidden] { display: none !important; }` so we also need the `!important` here to be able to override the default hidden behavior on the sphinx rendered scikit-learn.org. See: https://github.com/scikit-learn/scikit-learn/issues/21755 */display: inline-block !important;position: relative;}#sk-container-id-6 div.sk-text-repr-fallback {display: none;}</style><div id=\"sk-container-id-6\" class=\"sk-top-container\"><div class=\"sk-text-repr-fallback\"><pre>KNeighborsClassifier()</pre><b>In a Jupyter environment, please rerun this cell to show the HTML representation or trust the notebook. <br />On GitHub, the HTML representation is unable to render, please try loading this page with nbviewer.org.</b></div><div class=\"sk-container\" hidden><div class=\"sk-item\"><div class=\"sk-estimator sk-toggleable\"><input class=\"sk-toggleable__control sk-hidden--visually\" id=\"sk-estimator-id-6\" type=\"checkbox\" checked><label for=\"sk-estimator-id-6\" class=\"sk-toggleable__label sk-toggleable__label-arrow\">KNeighborsClassifier</label><div class=\"sk-toggleable__content\"><pre>KNeighborsClassifier()</pre></div></div></div></div></div>"
      ],
      "text/plain": [
       "KNeighborsClassifier()"
      ]
     },
     "execution_count": 62,
     "metadata": {},
     "output_type": "execute_result"
    }
   ],
   "source": [
    "model_knn=KNeighborsClassifier()\n",
    "model_knn.fit(X_train_scaled, y_train)"
   ]
  },
  {
   "cell_type": "markdown",
   "id": "ed0c6680",
   "metadata": {},
   "source": [
    "KNN menggunakan Hyper Parameters"
   ]
  },
  {
   "cell_type": "code",
   "execution_count": 65,
   "id": "ff40e461",
   "metadata": {},
   "outputs": [
    {
     "data": {
      "text/html": [
       "<style>#sk-container-id-7 {color: black;background-color: white;}#sk-container-id-7 pre{padding: 0;}#sk-container-id-7 div.sk-toggleable {background-color: white;}#sk-container-id-7 label.sk-toggleable__label {cursor: pointer;display: block;width: 100%;margin-bottom: 0;padding: 0.3em;box-sizing: border-box;text-align: center;}#sk-container-id-7 label.sk-toggleable__label-arrow:before {content: \"▸\";float: left;margin-right: 0.25em;color: #696969;}#sk-container-id-7 label.sk-toggleable__label-arrow:hover:before {color: black;}#sk-container-id-7 div.sk-estimator:hover label.sk-toggleable__label-arrow:before {color: black;}#sk-container-id-7 div.sk-toggleable__content {max-height: 0;max-width: 0;overflow: hidden;text-align: left;background-color: #f0f8ff;}#sk-container-id-7 div.sk-toggleable__content pre {margin: 0.2em;color: black;border-radius: 0.25em;background-color: #f0f8ff;}#sk-container-id-7 input.sk-toggleable__control:checked~div.sk-toggleable__content {max-height: 200px;max-width: 100%;overflow: auto;}#sk-container-id-7 input.sk-toggleable__control:checked~label.sk-toggleable__label-arrow:before {content: \"▾\";}#sk-container-id-7 div.sk-estimator input.sk-toggleable__control:checked~label.sk-toggleable__label {background-color: #d4ebff;}#sk-container-id-7 div.sk-label input.sk-toggleable__control:checked~label.sk-toggleable__label {background-color: #d4ebff;}#sk-container-id-7 input.sk-hidden--visually {border: 0;clip: rect(1px 1px 1px 1px);clip: rect(1px, 1px, 1px, 1px);height: 1px;margin: -1px;overflow: hidden;padding: 0;position: absolute;width: 1px;}#sk-container-id-7 div.sk-estimator {font-family: monospace;background-color: #f0f8ff;border: 1px dotted black;border-radius: 0.25em;box-sizing: border-box;margin-bottom: 0.5em;}#sk-container-id-7 div.sk-estimator:hover {background-color: #d4ebff;}#sk-container-id-7 div.sk-parallel-item::after {content: \"\";width: 100%;border-bottom: 1px solid gray;flex-grow: 1;}#sk-container-id-7 div.sk-label:hover label.sk-toggleable__label {background-color: #d4ebff;}#sk-container-id-7 div.sk-serial::before {content: \"\";position: absolute;border-left: 1px solid gray;box-sizing: border-box;top: 0;bottom: 0;left: 50%;z-index: 0;}#sk-container-id-7 div.sk-serial {display: flex;flex-direction: column;align-items: center;background-color: white;padding-right: 0.2em;padding-left: 0.2em;position: relative;}#sk-container-id-7 div.sk-item {position: relative;z-index: 1;}#sk-container-id-7 div.sk-parallel {display: flex;align-items: stretch;justify-content: center;background-color: white;position: relative;}#sk-container-id-7 div.sk-item::before, #sk-container-id-7 div.sk-parallel-item::before {content: \"\";position: absolute;border-left: 1px solid gray;box-sizing: border-box;top: 0;bottom: 0;left: 50%;z-index: -1;}#sk-container-id-7 div.sk-parallel-item {display: flex;flex-direction: column;z-index: 1;position: relative;background-color: white;}#sk-container-id-7 div.sk-parallel-item:first-child::after {align-self: flex-end;width: 50%;}#sk-container-id-7 div.sk-parallel-item:last-child::after {align-self: flex-start;width: 50%;}#sk-container-id-7 div.sk-parallel-item:only-child::after {width: 0;}#sk-container-id-7 div.sk-dashed-wrapped {border: 1px dashed gray;margin: 0 0.4em 0.5em 0.4em;box-sizing: border-box;padding-bottom: 0.4em;background-color: white;}#sk-container-id-7 div.sk-label label {font-family: monospace;font-weight: bold;display: inline-block;line-height: 1.2em;}#sk-container-id-7 div.sk-label-container {text-align: center;}#sk-container-id-7 div.sk-container {/* jupyter's `normalize.less` sets `[hidden] { display: none; }` but bootstrap.min.css set `[hidden] { display: none !important; }` so we also need the `!important` here to be able to override the default hidden behavior on the sphinx rendered scikit-learn.org. See: https://github.com/scikit-learn/scikit-learn/issues/21755 */display: inline-block !important;position: relative;}#sk-container-id-7 div.sk-text-repr-fallback {display: none;}</style><div id=\"sk-container-id-7\" class=\"sk-top-container\"><div class=\"sk-text-repr-fallback\"><pre>KNeighborsClassifier(n_neighbors=2)</pre><b>In a Jupyter environment, please rerun this cell to show the HTML representation or trust the notebook. <br />On GitHub, the HTML representation is unable to render, please try loading this page with nbviewer.org.</b></div><div class=\"sk-container\" hidden><div class=\"sk-item\"><div class=\"sk-estimator sk-toggleable\"><input class=\"sk-toggleable__control sk-hidden--visually\" id=\"sk-estimator-id-7\" type=\"checkbox\" checked><label for=\"sk-estimator-id-7\" class=\"sk-toggleable__label sk-toggleable__label-arrow\">KNeighborsClassifier</label><div class=\"sk-toggleable__content\"><pre>KNeighborsClassifier(n_neighbors=2)</pre></div></div></div></div></div>"
      ],
      "text/plain": [
       "KNeighborsClassifier(n_neighbors=2)"
      ]
     },
     "execution_count": 65,
     "metadata": {},
     "output_type": "execute_result"
    }
   ],
   "source": [
    "knn_hyper=KNeighborsClassifier(n_neighbors= 2)\n",
    "knn_hyper.fit(X_train_scaled, y_train)"
   ]
  },
  {
   "cell_type": "code",
   "execution_count": 68,
   "id": "93598258",
   "metadata": {},
   "outputs": [
    {
     "name": "stdout",
     "output_type": "stream",
     "text": [
      "Setting model Decision Tree terbaik : {'n_neighbors': 2}\n"
     ]
    }
   ],
   "source": [
    "hyperparameters = {'n_neighbors': list(range(2, 41))}\n",
    "\n",
    "model_knn_hyper = GridSearchCV(KNeighborsClassifier(), hyperparameters, cv=3, refit=True)\n",
    "\n",
    "model_knn_hyper.fit(X_train_scaled, y_train)\n",
    "print('Setting model Decision Tree terbaik :', model_knn_hyper.best_params_)"
   ]
  },
  {
   "cell_type": "markdown",
   "id": "9bbcdaed",
   "metadata": {},
   "source": [
    "# Evaluasi Model"
   ]
  },
  {
   "cell_type": "code",
   "execution_count": 69,
   "id": "14122b1b",
   "metadata": {},
   "outputs": [
    {
     "name": "stdout",
     "output_type": "stream",
     "text": [
      "              precision    recall  f1-score   support\n",
      "\n",
      "           A       0.84      0.99      0.90        67\n",
      "           B       0.91      0.76      0.83        66\n",
      "           C       0.93      0.79      0.85        67\n",
      "           D       0.86      0.97      0.91        67\n",
      "\n",
      "    accuracy                           0.88       267\n",
      "   macro avg       0.88      0.88      0.87       267\n",
      "weighted avg       0.88      0.88      0.87       267\n",
      "\n"
     ]
    }
   ],
   "source": [
    "y_pred_knn = model_knn.predict(X_test_scaled)\n",
    "print(classification_report(y_test, y_pred_knn))"
   ]
  },
  {
   "cell_type": "code",
   "execution_count": 70,
   "id": "963908eb",
   "metadata": {},
   "outputs": [
    {
     "name": "stdout",
     "output_type": "stream",
     "text": [
      "              precision    recall  f1-score   support\n",
      "\n",
      "           A       0.86      1.00      0.92        67\n",
      "           B       0.90      0.80      0.85        66\n",
      "           C       0.90      0.85      0.88        67\n",
      "           D       0.94      0.94      0.94        67\n",
      "\n",
      "    accuracy                           0.90       267\n",
      "   macro avg       0.90      0.90      0.90       267\n",
      "weighted avg       0.90      0.90      0.90       267\n",
      "\n"
     ]
    }
   ],
   "source": [
    "y_pred_knn_hyper = model_knn_hyper.predict(X_test_scaled)\n",
    "print(classification_report(y_test, y_pred_knn_hyper))"
   ]
  },
  {
   "cell_type": "code",
   "execution_count": 46,
   "id": "66ac9440",
   "metadata": {},
   "outputs": [
    {
     "data": {
      "text/html": [
       "<style>#sk-container-id-4 {color: black;background-color: white;}#sk-container-id-4 pre{padding: 0;}#sk-container-id-4 div.sk-toggleable {background-color: white;}#sk-container-id-4 label.sk-toggleable__label {cursor: pointer;display: block;width: 100%;margin-bottom: 0;padding: 0.3em;box-sizing: border-box;text-align: center;}#sk-container-id-4 label.sk-toggleable__label-arrow:before {content: \"▸\";float: left;margin-right: 0.25em;color: #696969;}#sk-container-id-4 label.sk-toggleable__label-arrow:hover:before {color: black;}#sk-container-id-4 div.sk-estimator:hover label.sk-toggleable__label-arrow:before {color: black;}#sk-container-id-4 div.sk-toggleable__content {max-height: 0;max-width: 0;overflow: hidden;text-align: left;background-color: #f0f8ff;}#sk-container-id-4 div.sk-toggleable__content pre {margin: 0.2em;color: black;border-radius: 0.25em;background-color: #f0f8ff;}#sk-container-id-4 input.sk-toggleable__control:checked~div.sk-toggleable__content {max-height: 200px;max-width: 100%;overflow: auto;}#sk-container-id-4 input.sk-toggleable__control:checked~label.sk-toggleable__label-arrow:before {content: \"▾\";}#sk-container-id-4 div.sk-estimator input.sk-toggleable__control:checked~label.sk-toggleable__label {background-color: #d4ebff;}#sk-container-id-4 div.sk-label input.sk-toggleable__control:checked~label.sk-toggleable__label {background-color: #d4ebff;}#sk-container-id-4 input.sk-hidden--visually {border: 0;clip: rect(1px 1px 1px 1px);clip: rect(1px, 1px, 1px, 1px);height: 1px;margin: -1px;overflow: hidden;padding: 0;position: absolute;width: 1px;}#sk-container-id-4 div.sk-estimator {font-family: monospace;background-color: #f0f8ff;border: 1px dotted black;border-radius: 0.25em;box-sizing: border-box;margin-bottom: 0.5em;}#sk-container-id-4 div.sk-estimator:hover {background-color: #d4ebff;}#sk-container-id-4 div.sk-parallel-item::after {content: \"\";width: 100%;border-bottom: 1px solid gray;flex-grow: 1;}#sk-container-id-4 div.sk-label:hover label.sk-toggleable__label {background-color: #d4ebff;}#sk-container-id-4 div.sk-serial::before {content: \"\";position: absolute;border-left: 1px solid gray;box-sizing: border-box;top: 0;bottom: 0;left: 50%;z-index: 0;}#sk-container-id-4 div.sk-serial {display: flex;flex-direction: column;align-items: center;background-color: white;padding-right: 0.2em;padding-left: 0.2em;position: relative;}#sk-container-id-4 div.sk-item {position: relative;z-index: 1;}#sk-container-id-4 div.sk-parallel {display: flex;align-items: stretch;justify-content: center;background-color: white;position: relative;}#sk-container-id-4 div.sk-item::before, #sk-container-id-4 div.sk-parallel-item::before {content: \"\";position: absolute;border-left: 1px solid gray;box-sizing: border-box;top: 0;bottom: 0;left: 50%;z-index: -1;}#sk-container-id-4 div.sk-parallel-item {display: flex;flex-direction: column;z-index: 1;position: relative;background-color: white;}#sk-container-id-4 div.sk-parallel-item:first-child::after {align-self: flex-end;width: 50%;}#sk-container-id-4 div.sk-parallel-item:last-child::after {align-self: flex-start;width: 50%;}#sk-container-id-4 div.sk-parallel-item:only-child::after {width: 0;}#sk-container-id-4 div.sk-dashed-wrapped {border: 1px dashed gray;margin: 0 0.4em 0.5em 0.4em;box-sizing: border-box;padding-bottom: 0.4em;background-color: white;}#sk-container-id-4 div.sk-label label {font-family: monospace;font-weight: bold;display: inline-block;line-height: 1.2em;}#sk-container-id-4 div.sk-label-container {text-align: center;}#sk-container-id-4 div.sk-container {/* jupyter's `normalize.less` sets `[hidden] { display: none; }` but bootstrap.min.css set `[hidden] { display: none !important; }` so we also need the `!important` here to be able to override the default hidden behavior on the sphinx rendered scikit-learn.org. See: https://github.com/scikit-learn/scikit-learn/issues/21755 */display: inline-block !important;position: relative;}#sk-container-id-4 div.sk-text-repr-fallback {display: none;}</style><div id=\"sk-container-id-4\" class=\"sk-top-container\"><div class=\"sk-text-repr-fallback\"><pre>KNeighborsClassifier(n_neighbors=2)</pre><b>In a Jupyter environment, please rerun this cell to show the HTML representation or trust the notebook. <br />On GitHub, the HTML representation is unable to render, please try loading this page with nbviewer.org.</b></div><div class=\"sk-container\" hidden><div class=\"sk-item\"><div class=\"sk-estimator sk-toggleable\"><input class=\"sk-toggleable__control sk-hidden--visually\" id=\"sk-estimator-id-4\" type=\"checkbox\" checked><label for=\"sk-estimator-id-4\" class=\"sk-toggleable__label sk-toggleable__label-arrow\">KNeighborsClassifier</label><div class=\"sk-toggleable__content\"><pre>KNeighborsClassifier(n_neighbors=2)</pre></div></div></div></div></div>"
      ],
      "text/plain": [
       "KNeighborsClassifier(n_neighbors=2)"
      ]
     },
     "execution_count": 46,
     "metadata": {},
     "output_type": "execute_result"
    }
   ],
   "source": []
  },
  {
   "cell_type": "markdown",
   "id": "dcd81838",
   "metadata": {},
   "source": [
    "# Testing Model"
   ]
  },
  {
   "cell_type": "code",
   "execution_count": 25,
   "id": "5b4f55c1",
   "metadata": {},
   "outputs": [
    {
     "name": "stdout",
     "output_type": "stream",
     "text": [
      "['A']\n"
     ]
    }
   ],
   "source": [
    "# input data baru\n",
    "ips1 = 3.7\n",
    "ips2 = 3.8\n",
    "ips3 = 3.1\n",
    "ips4 = 3.87\n",
    "ips5 = 3.29\n",
    "ips6 = 3.66\n",
    "ips7 = 3.09\n",
    "ips8 = 3.36\n",
    "\n",
    "\n",
    "# data baru yang diinput harus di-standardization terlebih dahulu\n",
    "data_baru = [[ips1, ips2, ips3, ips4, ips5, ips6, ips7, ips8]]\n",
    "data_baru = scaler.transform(data_baru)\n",
    "\n",
    "# prediksi data baru, yang sudah di-standardization, menggunakan model SVM terbaik\n",
    "hasil_prediksi = model_knn.predict(data_baru)\n",
    "hasil_prediksi = str(hasil_prediksi)\n",
    "\n",
    "print(hasil_prediksi)"
   ]
  },
  {
   "cell_type": "code",
   "execution_count": 24,
   "id": "5c528d80",
   "metadata": {},
   "outputs": [
    {
     "name": "stdout",
     "output_type": "stream",
     "text": [
      "['C']\n"
     ]
    }
   ],
   "source": [
    "# input data baru\n",
    "ips1 = 2.7\n",
    "ips2 = 2.8\n",
    "ips3 = 3.1\n",
    "ips4 = 3.12\n",
    "ips5 = 3.02\n",
    "ips6 = 2.75\n",
    "ips7 = 3.09\n",
    "ips8 = 3.36\n",
    "\n",
    "\n",
    "# data baru yang diinput harus di-standardization terlebih dahulu\n",
    "data_baru = [[ips1, ips2, ips3, ips4, ips5, ips6, ips7, ips8]]\n",
    "data_baru = scaler.transform(data_baru)\n",
    "\n",
    "# prediksi data baru, yang sudah di-standardization\n",
    "hasil_prediksi = model_knn_hyper.predict(data_baru)\n",
    "hasil_prediksi = str(hasil_prediksi)\n",
    "\n",
    "print(hasil_prediksi)\n"
   ]
  },
  {
   "cell_type": "markdown",
   "id": "c5f5b4f2",
   "metadata": {},
   "source": [
    "# Export Model"
   ]
  },
  {
   "cell_type": "code",
   "execution_count": null,
   "id": "541dedaf",
   "metadata": {},
   "outputs": [],
   "source": [
    "import pickle\n",
    "pickle.dump(model_knn,open('model.pkl', 'wb'))\n",
    "pickle.dump(scaler, open('scaler.pkl', 'wb'))"
   ]
  }
 ],
 "metadata": {
  "kernelspec": {
   "display_name": "Python 3 (ipykernel)",
   "language": "python",
   "name": "python3"
  },
  "language_info": {
   "codemirror_mode": {
    "name": "ipython",
    "version": 3
   },
   "file_extension": ".py",
   "mimetype": "text/x-python",
   "name": "python",
   "nbconvert_exporter": "python",
   "pygments_lexer": "ipython3",
   "version": "3.9.0"
  }
 },
 "nbformat": 4,
 "nbformat_minor": 5
}
